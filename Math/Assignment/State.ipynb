{
 "cells": [
  {
   "cell_type": "markdown",
   "id": "d8bdcdb9",
   "metadata": {},
   "source": [
    "State Assignment "
   ]
  },
  {
   "cell_type": "markdown",
   "id": "8973c914",
   "metadata": {},
   "source": [
    "Questions on measure of central tendency"
   ]
  },
  {
   "cell_type": "code",
   "execution_count": 5,
   "id": "fb4d37d5",
   "metadata": {},
   "outputs": [
    {
     "name": "stdout",
     "output_type": "stream",
     "text": [
      "58.75\n",
      "57.5\n",
      "ModeResult(mode=np.int64(50), count=np.int64(1))\n"
     ]
    }
   ],
   "source": [
    "# 1.\n",
    "\n",
    "import numpy as np\n",
    "from scipy import stats as st\n",
    "\n",
    "data=np.array([50,60,55,70])\n",
    "\n",
    "mean = np.mean(data)\n",
    "median = np.median(data)\n",
    "mode = st.mode(data)\n",
    "\n",
    "print(mean)\n",
    "print(median)\n",
    "print(mode)"
   ]
  },
  {
   "cell_type": "markdown",
   "id": "06e41db7",
   "metadata": {},
   "source": [
    "Insights for the Retail Store:\n",
    "The mean sales (58.75 units) indicate the average demand per week.\n",
    "The median sales (57.5 units) represent the typical weekly sales performance.\n",
    "Since there is no mode, there are no sales figures that occur more frequently."
   ]
  },
  {
   "cell_type": "code",
   "execution_count": 6,
   "id": "052bbf5a",
   "metadata": {},
   "outputs": [
    {
     "name": "stdout",
     "output_type": "stream",
     "text": [
      "17.0\n",
      "15.0\n",
      "ModeResult(mode=np.int64(10), count=np.int64(6))\n"
     ]
    }
   ],
   "source": [
    "# 2.\n",
    "\n",
    "import numpy as np\n",
    "from scipy import stats as st\n",
    "\n",
    "data = np.array([15, 10, 20, 25, 15, 10, 30, 20, 15, 10, 10, 25, 15, 20, 20, 15, 10, 10, 20, 25])\n",
    "\n",
    "\n",
    "print(np.mean(data))\n",
    "print(np.median(data))\n",
    "print(st.mode(data))"
   ]
  },
  {
   "cell_type": "markdown",
   "id": "dec31d60",
   "metadata": {},
   "source": [
    "Insights for the Restaurant:\n",
    "Since the mean (17 min) is higher than the median (15 min), there may be some longer wait times affecting the average.\n",
    "The most frequent waiting time is 10 minutes, indicating that a significant number of customers get seated quickly.\n",
    "The restaurant may need to analyze peak hours where wait times exceed 20+ minutes and optimize staffing accordingly."
   ]
  },
  {
   "cell_type": "code",
   "execution_count": 7,
   "id": "8843872e",
   "metadata": {},
   "outputs": [
    {
     "name": "stdout",
     "output_type": "stream",
     "text": [
      "3.44\n",
      "3.0\n",
      "ModeResult(mode=np.int64(2), count=np.int64(13))\n"
     ]
    }
   ],
   "source": [
    "# 3. \n",
    "\n",
    "import numpy as np\n",
    "from scipy import stats as st\n",
    "\n",
    "data = np.array([3, 2, 5, 4, 7, 2, 3, 3, 1, 6,\n",
    "4, 2, 3, 5, 2, 4, 2, 1, 3, 5,\n",
    "6, 3, 2, 1, 4, 2, 4, 5, 3, 2,\n",
    "7, 2, 3, 4, 5, 1, 6, 2, 4, 3,\n",
    "5, 3, 2, 4, 2, 6, 3, 2, 4, 5])\n",
    "\n",
    "print(np.mean(data))\n",
    "print(np.median(data))\n",
    "print(st.mode(data))"
   ]
  },
  {
   "cell_type": "markdown",
   "id": "7c142cbd",
   "metadata": {},
   "source": [
    "Insights for the Car Rental Company:\n",
    "Most customers rent cars for shorter durations (2-3 days), which suggests the need for flexible short-term rental plans.\n",
    "The mean (3.44 days) being slightly higher than the median (3 days) indicates some longer rental durations influencing the average.\n",
    "Optimizing fleet availability based on the frequent rental period (2-3 days) can improve efficiency and reduce downtime.\n",
    "The company might consider discounts for longer rentals (5+ days) to balance fleet utilization and revenue."
   ]
  },
  {
   "cell_type": "markdown",
   "id": "d28d77d9",
   "metadata": {},
   "source": [
    "Questions on measure of dispersion"
   ]
  },
  {
   "cell_type": "code",
   "execution_count": null,
   "id": "be604f94",
   "metadata": {},
   "outputs": [
    {
     "name": "stdout",
     "output_type": "stream",
     "text": [
      "35\n",
      "111\n",
      "11.105554165971787\n"
     ]
    }
   ],
   "source": [
    "# 1. \n",
    "\n",
    "import numpy as np\n",
    "import statistics as ss\n",
    "\n",
    "data = np.array([120,110,130,115,125,105,135,115,125,140])\n",
    "\n",
    "Large_val=140\n",
    "Small_val=105\n",
    "Range = Large_val - Small_val\n",
    "print(Range)\n",
    "print(ss.pvariance(data))\n",
    "print(ss.stdev([120,110,130,115,125,105,135,115,125,140]))"
   ]
  },
  {
   "cell_type": "markdown",
   "id": "c89299c3",
   "metadata": {},
   "source": [
    "Insights for the Manufacturing Company:\n",
    "The range of 35 units indicates a noticeable fluctuation in machine output across the days, suggesting that the machine’s performance may vary.\n",
    "The variance and standard deviation are also relatively high, indicating that the machine's performance is not highly consistent.\n",
    "The company could consider improving quality control or performing routine maintenance to reduce output variability.\n",
    "If production consistency is key, identifying and addressing the cause of fluctuations (e.g., machine calibration, material quality) might help stabilize output."
   ]
  },
  {
   "cell_type": "code",
   "execution_count": 17,
   "id": "18ef9456",
   "metadata": {},
   "outputs": [
    {
     "name": "stdout",
     "output_type": "stream",
     "text": [
      "400\n",
      "12725\n",
      "114.73357443855863\n"
     ]
    }
   ],
   "source": [
    "# 2. \n",
    "import statistics\n",
    "import numpy as np\n",
    "\n",
    "data = np.array([500, 700, 400, 600, 550, 750, 650, 500, 600, 550,800, 450, 700, 550, 600, 400, 650, 500, 750, 550,\n",
    "700, 600, 500, 800, 550, 650, 400, 600, 750, 550])\n",
    "\n",
    "Large_val=800\n",
    "Small_val=400\n",
    "Range = Large_val - Small_val\n",
    "print(Range)\n",
    "print(ss.pvariance(data))\n",
    "print(ss.stdev([500, 700, 400, 600, 550, 750, 650, 500, 600, 550,800, 450, 700, 550, 600, 400, 650, 500, 750, 550,\n",
    "700, 600, 500, 800, 550, 650, 400, 600, 750, 550]))"
   ]
  },
  {
   "cell_type": "markdown",
   "id": "f7784d4a",
   "metadata": {},
   "source": [
    "Insights:\n",
    "\n",
    "Range:\n",
    "The range is the difference between the highest and lowest sales values. It shows the overall spread of sales, helping identify how extreme the fluctuations are over the given period.\n",
    "\n",
    "Variance:\n",
    "Variance measures how spread out the sales data is around the mean. A high variance indicates large fluctuations, while a low variance suggests consistent sales behavior.\n",
    "\n",
    "Standard Deviation:\n",
    "Standard deviation is the square root of variance, offering a more interpretable measure of spread in the same units as the data. It provides insights into how far individual sales are from the average, aiding in better forecasting."
   ]
  },
  {
   "cell_type": "code",
   "execution_count": 18,
   "id": "975cbbe2",
   "metadata": {},
   "outputs": [
    {
     "name": "stdout",
     "output_type": "stream",
     "text": [
      "6\n",
      "2\n",
      "1.528504671439458\n"
     ]
    }
   ],
   "source": [
    "# 3. \n",
    "import numpy as np\n",
    "import statistics\n",
    "\n",
    "data = np.array([3, 5, 2, 4, 6, 2, 3, 4, 2, 5,\n",
    "7, 2, 3, 4, 2, 4, 2, 3, 5, 6,\n",
    "3, 2, 1, 4, 2, 4, 5, 3, 2, 7,\n",
    "2, 3, 4, 5, 1, 6, 2, 4, 3, 5,\n",
    "3, 2, 4, 2, 6, 3, 2, 4, 5, 3])\n",
    "\n",
    "Large_val=7\n",
    "Small_val=1\n",
    "Range = Large_val - Small_val\n",
    "print(Range)\n",
    "print(ss.pvariance(data))\n",
    "print(ss.stdev([3, 5, 2, 4, 6, 2, 3, 4, 2, 5,\n",
    "7, 2, 3, 4, 2, 4, 2, 3, 5, 6,\n",
    "3, 2, 1, 4, 2, 4, 5, 3, 2, 7,\n",
    "2, 3, 4, 5, 1, 6, 2, 4, 3, 5,\n",
    "3, 2, 4, 2, 6, 3, 2, 4, 5, 3]))"
   ]
  },
  {
   "cell_type": "markdown",
   "id": "ad844907",
   "metadata": {},
   "source": [
    "These insights help assess the variability in shipment times, which can aid in improving logistics efficiency and managing customer expectations. Let me know if you need further analysis"
   ]
  },
  {
   "cell_type": "code",
   "execution_count": null,
   "id": "d3447347",
   "metadata": {},
   "outputs": [
    {
     "name": "stdout",
     "output_type": "stream",
     "text": [
      "132.5\n",
      "45\n"
     ]
    }
   ],
   "source": [
    "# 4. \n",
    "\n",
    "import numpy as np\n",
    "\n",
    "data = np.array([120, 150, 110, 135, 125, 140, 130, 155, 115, 145, 135, 130])\n",
    "\n",
    "\n",
    "print(np.mean(data))\n",
    "Large_val=155\n",
    "Small_val=110\n",
    "Range = Large_val - Small_val\n",
    "print(Range)"
   ]
  },
  {
   "cell_type": "code",
   "execution_count": 3,
   "id": "124fdf50",
   "metadata": {},
   "outputs": [
    {
     "name": "stdout",
     "output_type": "stream",
     "text": [
      "7.5\n",
      "1.0350983390135313\n"
     ]
    }
   ],
   "source": [
    "# 5. \n",
    "\n",
    "\n",
    "import numpy as np\n",
    "import statistics as ss\n",
    "\n",
    "data = np.array([8, 7, 9, 6, 7, 8, 9, 8, 7, 6,\n",
    "8, 9, 7, 8, 7, 6, 8, 9, 6, 7,\n",
    "8, 9, 7, 6, 7, 8, 9, 8, 7, 6,\n",
    "9, 8, 7, 6, 8, 9, 7, 8, 7, 6,\n",
    "9, 8, 7, 6, 7, 8, 9, 8, 7, 6])\n",
    "\n",
    "print(np.mean(data))\n",
    "print(ss.stdev([8, 7, 9, 6, 7, 8, 9, 8, 7, 6,\n",
    "8, 9, 7, 8, 7, 6, 8, 9, 6, 7,\n",
    "8, 9, 7, 6, 7, 8, 9, 8, 7, 6,\n",
    "9, 8, 7, 6, 8, 9, 7, 8, 7, 6,\n",
    "9, 8, 7, 6, 7, 8, 9, 8, 7, 6]))"
   ]
  },
  {
   "cell_type": "code",
   "execution_count": 6,
   "id": "a4a30374",
   "metadata": {},
   "outputs": [
    {
     "name": "stdout",
     "output_type": "stream",
     "text": [
      "16.74\n",
      "19\n",
      "4.1429506881014655\n"
     ]
    }
   ],
   "source": [
    "# 6.  \n",
    "\n",
    "import numpy as np\n",
    "import statistics as ss\n",
    "\n",
    "data = np.array([10, 15, 12, 18, 20, 25, 8, 14, 16, 22,\n",
    "9, 17, 11, 13, 19, 23, 21, 16, 24, 27,\n",
    "13, 10, 18, 16, 12, 14, 19, 21, 11, 17,\n",
    "15, 20, 26, 13, 12, 14, 22, 19, 16, 11,\n",
    "25, 18, 16, 13, 21, 20, 15, 12, 19, 17,\n",
    "14, 16, 23, 18, 15, 11, 19, 22, 17, 12,\n",
    "16, 14, 18, 20, 25, 13, 11, 22, 19, 17,\n",
    "15, 16, 13, 14, 18, 20, 19, 21, 17, 12,\n",
    "15, 13, 16, 14, 22, 21, 19, 18, 16, 11,\n",
    "17, 14, 12, 20, 23, 19, 15, 16, 13, 18])\n",
    "\n",
    "\n",
    "print(np.mean(data))\n",
    "\n",
    "Large_val=27\n",
    "Small_val=8\n",
    "Range = Large_val - Small_val\n",
    "\n",
    "print(Range)\n",
    "print(ss.stdev([10, 15, 12, 18, 20, 25, 8, 14, 16, 22,\n",
    "9, 17, 11, 13, 19, 23, 21, 16, 24, 27,\n",
    "13, 10, 18, 16, 12, 14, 19, 21, 11, 17,\n",
    "15, 20, 26, 13, 12, 14, 22, 19, 16, 11,\n",
    "25, 18, 16, 13, 21, 20, 15, 12, 19, 17,\n",
    "14, 16, 23, 18, 15, 11, 19, 22, 17, 12,\n",
    "16, 14, 18, 20, 25, 13, 11, 22, 19, 17,\n",
    "15, 16, 13, 14, 18, 20, 19, 21, 17, 12,\n",
    "15, 13, 16, 14, 22, 21, 19, 18, 16, 11,\n",
    "17, 14, 12, 20, 23, 19, 15, 16, 13, 18]))"
   ]
  },
  {
   "cell_type": "code",
   "execution_count": 8,
   "id": "9c616744",
   "metadata": {},
   "outputs": [
    {
     "name": "stdout",
     "output_type": "stream",
     "text": [
      "26.48\n",
      "19\n",
      "31\n"
     ]
    }
   ],
   "source": [
    "# 7.  \n",
    "\n",
    "import numpy as np\n",
    "import statistics as ss\n",
    "\n",
    "data = np.array([30, 32, 33, 28, 31, 30, 29, 30, 32, 31,\n",
    "25, 27, 26, 23, 28, 24, 26, 25, 27, 28,\n",
    "22, 23, 20, 25, 21, 24, 23, 22, 25, 24,\n",
    "18, 17, 19, 20, 21, 18, 19, 17, 20, 19,\n",
    "35, 36, 34, 35, 33, 34, 32, 33, 36, 34])\n",
    "\n",
    "\n",
    "print(np.mean(data))\n",
    "\n",
    "Large_val=36\n",
    "Small_val=17\n",
    "Range = Large_val - Small_val\n",
    "\n",
    "print(Range)\n",
    "print(ss.pvariance(data))"
   ]
  },
  {
   "cell_type": "code",
   "execution_count": 10,
   "id": "70d81c92",
   "metadata": {},
   "outputs": [
    {
     "name": "stdout",
     "output_type": "stream",
     "text": [
      "34.99\n",
      "35.0\n",
      "19\n"
     ]
    }
   ],
   "source": [
    "# 8. \n",
    "\n",
    "import numpy as np\n",
    "\n",
    "data = np.array([28, 32, 35, 40, 42, 28, 33, 38, 30, 41,\n",
    "37, 31, 34, 29, 36, 43, 39, 27, 35, 31,\n",
    "39, 45, 29, 33, 37, 40, 36, 29, 31, 38,\n",
    "35, 44, 32, 39, 36, 30, 33, 28, 41, 35,\n",
    "31, 37, 42, 29, 34, 40, 31, 33, 38, 36,\n",
    "39, 27, 35, 30, 43, 29, 32, 36, 31, 40,\n",
    "38, 44, 37, 33, 35, 41, 30, 31, 39, 28,\n",
    "45, 29, 33, 38, 34, 32, 35, 31, 40, 36,\n",
    "39, 27, 35, 30, 43, 29, 32, 36, 31, 40,\n",
    "38, 44, 37, 33, 35, 41, 30, 31, 39, 28])\n",
    "\n",
    "\n",
    "print(np.mean(data))\n",
    "print(np.median(data))\n",
    "\n",
    "Large_val=27\n",
    "Small_val=8\n",
    "Range = Large_val - Small_val\n",
    "\n",
    "print(Range)"
   ]
  },
  {
   "cell_type": "code",
   "execution_count": 12,
   "id": "a3b668fe",
   "metadata": {},
   "outputs": [
    {
     "name": "stdout",
     "output_type": "stream",
     "text": [
      "50.7\n",
      "50.0\n",
      "15.75\n"
     ]
    }
   ],
   "source": [
    "# 9.  \n",
    "\n",
    "import numpy as np\n",
    "from scipy import stats as st\n",
    "\n",
    "data = np.array([56, 40, 28, 73, 52, 61, 35, 40, 47, 65,\n",
    "52, 44, 38, 60, 56, 40, 36, 49, 68, 57,\n",
    "52, 63, 41, 48, 55, 42, 39, 58, 62, 49,\n",
    "59, 45, 47, 51, 65, 41, 48, 55, 42, 39,\n",
    "58, 62, 49, 59, 45, 47, 51, 65, 43, 58])\n",
    "\n",
    "\n",
    "print(np.mean(data))\n",
    "print(np.median(data))\n",
    "print(st.iqr(data))"
   ]
  },
  {
   "cell_type": "code",
   "execution_count": 14,
   "id": "8d68e405",
   "metadata": {},
   "outputs": [
    {
     "name": "stdout",
     "output_type": "stream",
     "text": [
      "ModeResult(mode=np.int64(30), count=np.int64(2))\n"
     ]
    }
   ],
   "source": [
    "# 10.\n",
    "\n",
    "from scipy import stats as st\n",
    "\n",
    "data = np.array([30, 40, 20, 10, 45, 25, 30])\n",
    "\n",
    "print(st.mode(data))"
   ]
  },
  {
   "cell_type": "code",
   "execution_count": 15,
   "id": "57744311",
   "metadata": {},
   "outputs": [
    {
     "name": "stdout",
     "output_type": "stream",
     "text": [
      "ModeResult(mode=np.int64(4), count=np.int64(39))\n"
     ]
    }
   ],
   "source": [
    "# 11.\n",
    "\n",
    "from scipy import stats as st\n",
    "\n",
    "data = np.array([4, 5, 3, 4, 4, 3, 2, 5, 4, 3,\n",
    "5, 4, 2, 3, 4, 5, 3, 4, 5, 3,\n",
    "4, 3, 2, 4, 5, 3, 4, 5, 4, 3,\n",
    "3, 4, 5, 2, 3, 4, 4, 3, 5, 4,\n",
    "3, 4, 5, 4, 2, 3, 4, 5, 3, 4,\n",
    "5, 4, 3, 4, 5, 3, 4, 5, 4, 3,\n",
    "3, 4, 5, 2, 3, 4, 4, 3, 5, 4,\n",
    "3, 4, 5, 4, 2, 3, 4, 5, 3, 4,\n",
    "5, 4, 3, 4, 5, 3, 4, 5, 4, 3,\n",
    "3, 4, 5, 2, 3, 4, 4, 3, 5, 4])\n",
    "\n",
    "print(st.mode(data))"
   ]
  },
  {
   "cell_type": "code",
   "execution_count": 17,
   "id": "6c97d4c9",
   "metadata": {},
   "outputs": [
    {
     "name": "stdout",
     "output_type": "stream",
     "text": [
      "36.14\n"
     ]
    }
   ],
   "source": [
    "# 12. \n",
    "\n",
    "import numpy as np\n",
    "data = np.array([35, 28, 32, 45, 38, 29, 42, 30, 36, 41,\n",
    "47, 31, 39, 43, 37, 30, 34, 39, 28, 33,\n",
    "36, 40, 42, 29, 31, 45, 38, 33, 41, 35,\n",
    "37,\n",
    "34, 46, 30, 39, 43, 28, 32, 36, 29,\n",
    "31, 37, 40, 42, 33, 39, 28, 35, 38, 43])\n",
    "\n",
    "print(np.mean(data))"
   ]
  },
  {
   "cell_type": "code",
   "execution_count": 18,
   "id": "776b84ff",
   "metadata": {},
   "outputs": [
    {
     "name": "stdout",
     "output_type": "stream",
     "text": [
      "130.5\n"
     ]
    }
   ],
   "source": [
    "# 13. \n",
    "\n",
    "import numpy as np\n",
    "\n",
    "data = np.array([ 125, 148, 137, 120, 135, 132, 145, 122, 130, 141,\n",
    "118, 125, 132, 136, 128, 123, 132, 138, 126, 129,\n",
    "136, 127, 130, 122, 125, 133, 140, 126, 133, 135,\n",
    "130, 134, 141, 119, 125, 131, 136, 128, 124, 132,\n",
    "136, 127, 130, 122, 125, 133, 140, 126, 133, 135,\n",
    "130, 134, 141, 119, 125, 131, 136, 128, 124, 132,\n",
    "136, 127, 130, 122, 125, 133, 140, 126, 133, 135,\n",
    "130, 134, 141, 119, 125, 131, 136, 128, 124, 132,\n",
    "136, 127, 130, 122, 125, 133, 140, 126, 133, 135,\n",
    "130, 134, 141, 119, 125, 131, 136, 128, 124, 132])\n",
    "\n",
    "print(np.median(data))"
   ]
  },
  {
   "cell_type": "code",
   "execution_count": 19,
   "id": "400df322",
   "metadata": {},
   "outputs": [
    {
     "name": "stdout",
     "output_type": "stream",
     "text": [
      "37.96666666666667\n",
      "17\n"
     ]
    }
   ],
   "source": [
    "# 14. \n",
    "\n",
    "import numpy as np\n",
    "\n",
    "data = np.array([  45, 35, 40, 38, 42, 37, 39, 43, 44, 41,\n",
    " 32, 28, 30, 34, 33, 35, 31, 29, 36, 37,\n",
    " 40, 39, 42, 41, 38, 43, 45, 44, 41, 37])\n",
    "\n",
    "print(np.mean(data))\n",
    "\n",
    "Large_val=45\n",
    "Small_val=28\n",
    "Range = Large_val - Small_val\n",
    "\n",
    "print(Range)"
   ]
  },
  {
   "cell_type": "markdown",
   "id": "fa4d6194",
   "metadata": {},
   "source": [
    "Questions on Measure of Skewness and Kurtosis"
   ]
  },
  {
   "cell_type": "code",
   "execution_count": null,
   "id": "32f5ecdb",
   "metadata": {},
   "outputs": [
    {
     "name": "stdout",
     "output_type": "stream",
     "text": [
      "0    0.054546\n",
      "dtype: float64\n"
     ]
    }
   ],
   "source": [
    "# 1. \n",
    "\n",
    "import pandas as pd\n",
    "\n",
    "data = [-2.5, 1.3, -0.8, -1.9, 2.1, 0.5, -1.2, 1.8, -0.5, 2.3,\n",
    "-0.7, 1.2, -1.5, -0.3, 2.6, 1.1, -1.7, 0.9, -1.4, 0.3,\n",
    "1.9, -1.1, -0.4, 2.2, -0.9, 1.6, -0.6, -1.3, 2.4, 0.7,\n",
    "-1.8, 1.5, -0.2, -2.1, 2.8, 0.8, -1.6, 1.4, -0.1, 2.5,\n",
    "-1.0, 1.7, -0.9, -2.0, 2.7, 0.6, -1.4, 1.1, -0.3, 2.0]\n",
    "\n",
    "df = pd.DataFrame(data)\n",
    "\n",
    "print(df.skew())\n",
    "print(df.kurt())"
   ]
  },
  {
   "cell_type": "markdown",
   "id": "21fe3089",
   "metadata": {},
   "source": [
    "Interpretation:\n",
    "Skewness (~0.05): The value is close to zero, indicating that the distribution of returns is approximately symmetric.\n",
    "Kurtosis (-1.2951): The negative excess kurtosis suggests that the distribution is platykurtic, meaning it has lighter tails and is less peaked compared to a normal distribution. This implies fewer extreme returns (less risk of large losses or gains)"
   ]
  },
  {
   "cell_type": "code",
   "execution_count": 2,
   "id": "d82ae2c3",
   "metadata": {},
   "outputs": [
    {
     "name": "stdout",
     "output_type": "stream",
     "text": [
      "0    0.224025\n",
      "dtype: float64\n",
      "0   -0.931209\n",
      "dtype: float64\n"
     ]
    }
   ],
   "source": [
    "# 2. \n",
    "\n",
    "import pandas as pd\n",
    "\n",
    "data = [2.5, 4.8, 3.2, 2.1, 4.5, 2.9, 2.3, 3.1, 4.2, 3.9,\n",
    "2.8, 4.1, 2.6, 2.4, 4.7, 3.3, 2.7, 3.0, 4.3, 3.7,\n",
    "2.2, 3.6, 4.0, 2.7, 3.8, 3.5, 3.2, 4.4, 2.0, 3.4,\n",
    "3.1, 2.9, 4.6, 3.3, 2.5, 4.9, 2.8, 3.0, 4.2, 3.9,\n",
    "2.8, 4.1, 2.6, 2.4, 4.7, 3.3, 2.7, 3.0, 4.3, 3.7,\n",
    "2.2, 3.6, 4.0, 2.7, 3.8, 3.5, 3.2, 4.4,\n",
    "2.0, 3.4,\n",
    "3.1, 2.9, 4.6, 3.3, 2.5, 4.9, 2.8, 3.0, 4.2, 3.9,\n",
    "2.8, 4.1, 2.6, 2.4, 4.7, 3.3, 2.7, 3.0, 4.3, 3.7,\n",
    "2.2, 3.6, 4.0, 2.7, 3.8, 3.5, 3.2, 4.4, 2.0, 3.4,\n",
    "3.1, 2.9, 4.6, 3.3, 2.5, 4.9]\n",
    "\n",
    "df = pd.DataFrame(data)\n",
    "\n",
    "print(df.skew())\n",
    "print(df.kurt())"
   ]
  },
  {
   "cell_type": "markdown",
   "id": "30145ad9",
   "metadata": {},
   "source": [
    "Interpretation:\n",
    "Skewness (~0.224025): The value is close to zero, indicating that the distribution of returns is approximately symmetric.\n",
    "Kurtosis (-0.931209): The negative excess kurtosis suggests that the distribution is platykurtic, meaning it has lighter tails and is less peaked compared to a normal distribution. This implies fewer extreme returns (less risk of large losses or gains)"
   ]
  },
  {
   "cell_type": "code",
   "execution_count": 3,
   "id": "8eb2273d",
   "metadata": {},
   "outputs": [
    {
     "name": "stdout",
     "output_type": "stream",
     "text": [
      "0   -0.21091\n",
      "dtype: float64\n",
      "0   -0.745256\n",
      "dtype: float64\n"
     ]
    }
   ],
   "source": [
    "# 3. \n",
    "\n",
    "import pandas as pd\n",
    "\n",
    "data = [4, 5, 3, 4, 4, 3, 2, 5, 4, 3,\n",
    "5, 4, 2, 3, 4, 5, 3, 4, 5, 3,\n",
    "4, 3, 2, 4, 5, 3, 4, 5, 4, 3,\n",
    "3, 4, 5, 2, 3, 4, 4, 3, 5, 4,\n",
    "3, 4, 5, 4, 2, 3, 4, 5, 3, 4,\n",
    "5, 4, 3, 4, 5, 3, 4, 5, 4, 3,\n",
    "3, 4, 5, 2, 3, 4, 4, 3, 5, 4,\n",
    "3, 4, 5, 4, 2, 3, 4, 5, 3, 4,\n",
    "5, 4, 3, 4, 5, 3, 4, 5, 4, 3,\n",
    "3, 4, 5, 2, 3, 4, 4, 3, 5, 4]\n",
    "\n",
    "df = pd.DataFrame(data)\n",
    "\n",
    "print(df.skew())\n",
    "print(df.kurt())"
   ]
  },
  {
   "cell_type": "markdown",
   "id": "a7fb571a",
   "metadata": {},
   "source": [
    "Interpretation:\n",
    "Skewness (-0.21091): The value is close to zero, indicating that the distribution of returns is approximately symmetric.\n",
    "Kurtosis (-0.745256): The negative excess kurtosis suggests that the distribution is platykurtic, meaning it has lighter tails and is less peaked compared to a normal distribution. This implies fewer extreme returns (less risk of large losses or gains)"
   ]
  },
  {
   "cell_type": "code",
   "execution_count": 4,
   "id": "40b617f3",
   "metadata": {},
   "outputs": [
    {
     "name": "stdout",
     "output_type": "stream",
     "text": [
      "0    0.209219\n",
      "dtype: float64\n",
      "0   -1.037424\n",
      "dtype: float64\n"
     ]
    }
   ],
   "source": [
    "# 4. \n",
    "\n",
    "import pandas as pd\n",
    "\n",
    "data = [280, 350, 310, 270, 390, 320, 290, 340, 310, 380,\n",
    "270, 350, 300, 330, 370, 310, 280, 320, 350, 290,\n",
    "270, 350, 300, 330, 370, 310, 280, 320, 350, 290,\n",
    "270, 350, 300, 330, 370, 310, 280, 320, 350, 290,\n",
    "270, 350, 300, 330, 370, 310, 280, 320, 350, 290,\n",
    "270, 350, 300, 330, 370, 310, 280, 320, 350, 290,\n",
    "270, 350, 300, 330, 370, 310, 280, 320, 350, 290,\n",
    "270, 350, 300, 330, 370, 310, 280, 320, 350, 290,\n",
    "270, 350, 300, 330, 370, 310, 280, 320, 350, 290,\n",
    "270, 350, 300, 330, 370, 310, 280, 320, 350, 290]\n",
    "\n",
    "df = pd.DataFrame(data)\n",
    "\n",
    "print(df.skew())\n",
    "print(df.kurt())"
   ]
  },
  {
   "cell_type": "markdown",
   "id": "c407dbc7",
   "metadata": {},
   "source": [
    "Interpretation:\n",
    "Skewness (~0.209219): The value is close to zero, indicating that the distribution of returns is approximately symmetric.\n",
    "Kurtosis (-1.037424): The negative excess kurtosis suggests that the distribution is platykurtic, meaning it has lighter tails and is less peaked compared to a normal distribution. This implies fewer extreme returns (less risk of large losses or gains)"
   ]
  },
  {
   "cell_type": "code",
   "execution_count": 5,
   "id": "543c576d",
   "metadata": {},
   "outputs": [
    {
     "name": "stdout",
     "output_type": "stream",
     "text": [
      "0   -0.335013\n",
      "dtype: float64\n",
      "0   -0.881011\n",
      "dtype: float64\n"
     ]
    }
   ],
   "source": [
    "# 5. \n",
    "\n",
    "import pandas as pd\n",
    "\n",
    "data = [12, 18, 15, 22, 20, 14, 16, 21, 19, 17,\n",
    "22, 19, 13, 16, 21, 22, 17, 19, 22, 18,\n",
    "14, 20, 19, 17, 22, 18, 15, 21, 20, 16,\n",
    "12, 18, 15, 22, 20, 14, 16, 21, 19, 17,\n",
    "22, 19, 13, 16, 21, 22, 17, 19, 22, 18,\n",
    "14, 20, 19, 17, 22, 18, 15, 21, 20, 16,\n",
    "12, 18, 15, 22, 20, 14, 16, 21, 19, 17,\n",
    "22, 19, 13, 16, 21, 22, 17, 19, 22, 18,\n",
    "14, 20, 19, 17, 22, 18, 15, 21, 20, 16,\n",
    "12, 18, 15, 22, 20, 14, 16, 21, 19, 17]\n",
    "\n",
    "df = pd.DataFrame(data)\n",
    "\n",
    "print(df.skew())\n",
    "print(df.kurt())"
   ]
  },
  {
   "cell_type": "markdown",
   "id": "c69d1bde",
   "metadata": {},
   "source": [
    "Interpretation:\n",
    "Skewness (-0.335013): The value is close to zero, indicating that the distribution of returns is approximately symmetric.\n",
    "Kurtosis (-0.881011): The negative excess kurtosis suggests that the distribution is platykurtic, meaning it has lighter tails and is less peaked compared to a normal distribution. This implies fewer extreme returns (less risk of large losses or gains)"
   ]
  },
  {
   "cell_type": "markdown",
   "id": "b16b3c71",
   "metadata": {},
   "source": [
    "Questions on Percentile and Quartiles"
   ]
  },
  {
   "cell_type": "code",
   "execution_count": 8,
   "id": "4250b794",
   "metadata": {},
   "outputs": [
    {
     "name": "stdout",
     "output_type": "stream",
     "text": [
      "[ 40.    74.7  128.75 252.5  376.25 450.5  500.  ]\n"
     ]
    }
   ],
   "source": [
    "import numpy as np \n",
    "\n",
    "data = [40, 45, 50, 55, 60, 62, 65, 68, 70, 72,\n",
    "75, 78, 80, 82, 85, 88, 90, 92, 95, 100,\n",
    "105, 110, 115, 120, 125, 130, 135, 140, 145, 150,\n",
    "155, 160, 165, 170, 175, 180, 185, 190, 195, 200,\n",
    "205, 210, 215, 220, 225, 230, 235, 240, 245, 250,\n",
    "255, 260, 265, 270, 275, 280, 285, 290, 295, 300,\n",
    "305, 310, 315, 320, 325, 330, 335, 340, 345, 350,\n",
    "355, 360, 365, 370, 375, 380, 385, 390, 395, 400,\n",
    "405, 410, 415, 420, 425, 430, 435, 440, 445, 450,\n",
    "455, 460, 465, 470, 475, 480, 485, 490, 495, 500]\n",
    "\n",
    "a = np.quantile(data,[0, 0.10, 0.25, 0.5, 0.75, 0.90, 1])\n",
    "\n",
    "print(a)"
   ]
  },
  {
   "cell_type": "code",
   "execution_count": 9,
   "id": "f8fb4d5c",
   "metadata": {},
   "outputs": [
    {
     "name": "stdout",
     "output_type": "stream",
     "text": [
      "[ 55.    94.55 143.75 267.5  391.25 440.75 515.  ]\n"
     ]
    }
   ],
   "source": [
    "import numpy as np \n",
    "\n",
    "data = [55, 60, 62, 65, 68, 70, 72, 75, 78, 80,\n",
    "82, 85, 88, 90, 92, 95, 100, 105, 110, 115,\n",
    "120, 125, 130, 135, 140, 145, 150, 155, 160, 165,\n",
    "170, 175, 180, 185, 190, 195, 200, 205, 210, 215,\n",
    "220, 225, 230, 235, 240, 245, 250, 255, 260, 265,\n",
    "270, 275, 280, 285, 290, 295, 300, 305, 310, 315,\n",
    "320, 325, 330, 335, 340, 345, 350, 355, 360, 365,\n",
    "370, 375,\n",
    "380, 385, 390, 395, 400, 405, 410, 415,\n",
    "420, 425, 430, 435, 440, 445, 450, 455, 460, 465,\n",
    "470, 475, 480, 485, 490, 495, 500, 505, 510, 515]\n",
    "\n",
    "a = np.quantile(data,[0, 0.15, 0.25, 0.5, 0.75, 0.85, 1])\n",
    "\n",
    "print(a)"
   ]
  },
  {
   "cell_type": "markdown",
   "id": "0fbd3505",
   "metadata": {},
   "source": [
    "Questions on Correlation and Covariance"
   ]
  },
  {
   "cell_type": "code",
   "execution_count": 11,
   "id": "72a756d5",
   "metadata": {},
   "outputs": [
    {
     "name": "stdout",
     "output_type": "stream",
     "text": [
      "0.9992103100366481\n"
     ]
    }
   ],
   "source": [
    "import numpy as np\n",
    "\n",
    "ae = np.array([10, 12, 15, 18, 20, 22, 25, 28, 30, 32, 35, 38])\n",
    "sr = np.array([50, 55, 60, 65, 70, 75, 80, 85, 90, 95, 100, 105])\n",
    "\n",
    "cf = np.corrcoef(ae, sr)[0, 1]\n",
    "\n",
    "print(cf)\n"
   ]
  },
  {
   "cell_type": "code",
   "execution_count": null,
   "id": "46afa3fe",
   "metadata": {},
   "outputs": [
    {
     "name": "stdout",
     "output_type": "stream",
     "text": [
      "0.9985957269963789\n"
     ]
    }
   ],
   "source": [
    "import numpy as np\n",
    "\n",
    "a = np.array([ 45, 47, 48, 50, 52, 53, 55, 56, 58, 60, 62, 64, 65, 67, 69, 70, 72, 74, 76, 77])\n",
    "b = np.array([ 52, 54, 55, 57, 59, 60, 61, 62, 64, 66, 67, 69, 71, 73, 74, 76, 78, 80, 82, 83])\n",
    "\n",
    "cf = np.corrcoef(a, b)[0, 1]\n",
    "\n",
    "print(cf)"
   ]
  },
  {
   "cell_type": "markdown",
   "id": "811fd28a",
   "metadata": {},
   "source": [
    "Questions on discrete and continuous random variable"
   ]
  },
  {
   "cell_type": "markdown",
   "id": "c32b309f",
   "metadata": {},
   "source": [
    "Discrete Random Variable"
   ]
  },
  {
   "cell_type": "markdown",
   "id": "0ae78821",
   "metadata": {},
   "source": [
    "1.Rolling exactly five 3's in 100 rolls of a fair six-sided die:\n",
    "≈ 0.00029 (0.029%) – Very unlikely.\n",
    "\n",
    "\n",
    "2.Drawing exactly two hearts in a 5-card hand from a 52-card deck:\n",
    "≈ 0.274 (27.4%) – Fairly likely.\n",
    "\n",
    "\n",
    "3.Getting at least 8 correct answers by randomly guessing in a 10-question multiple-choice test:\n",
    "≈ 0.00042 (0.042%) – Extremely rare.\n",
    "\n",
    "\n",
    "4.Drawing 3 blue balls from a bag containing 20 blue, 30 red, and 10 green balls:\n",
    "≈ 0.0333 (3.33%) – Unlikely, but possible.\n",
    "\n",
    "\n",
    "5.Scoring exactly 3 goals in 10 shots with a 30% probability per shot:\n",
    "≈ 0.267 (26.7%) – Relatively common."
   ]
  },
  {
   "cell_type": "markdown",
   "id": "d4ccfeca",
   "metadata": {},
   "source": [
    "Continuous Random Variable"
   ]
  },
  {
   "cell_type": "markdown",
   "id": "a1d17e74",
   "metadata": {},
   "source": [
    "1.Probability that a randomly selected student is taller than 180 cm:\n",
    "≈ 0.067 (6.68%) – Uncommon, but possible.\n",
    "\n",
    "\n",
    "2.Probability that a customer waits less than 3 minutes in a coffee shop:\n",
    "≈ 0.451 (45.1%) – Almost a 50/50 chance.\n",
    "\n",
    "\n",
    "3.Probability that a light bulb lasts between 900 and 1100 hours:\n",
    "≈ 0.683 (68.3%) – Quite likely.\n",
    "\n",
    "\n",
    "4.Probability that an apple weighs between 150 and 170 grams in a uniform distribution:\n",
    "≈ 0.20 (20%) – Fairly low.\n",
    "\n",
    "\n",
    "5.Probability that a task is completed in less than 15 minutes:\n",
    "≈ 0.528 (52.8%) – Slightly more than half the time."
   ]
  },
  {
   "cell_type": "markdown",
   "id": "8378ae3f",
   "metadata": {},
   "source": [
    "Questions on Hypothesis Testings"
   ]
  },
  {
   "cell_type": "code",
   "execution_count": 1,
   "id": "f75e317d",
   "metadata": {},
   "outputs": [
    {
     "name": "stdout",
     "output_type": "stream",
     "text": [
      "T-statistic: 2.1850\n",
      "P-value: 0.0424\n",
      "Reject the null hypothesis: There is a significant difference between the groups.\n"
     ]
    }
   ],
   "source": [
    "import numpy as np\n",
    "from scipy import stats\n",
    "\n",
    "new = np.array([85, 90, 78, 92, 88, 76, 95, 89, 84, 91])\n",
    "old = np.array([80, 85, 74, 86, 82, 70, 88, 83, 79, 84])\n",
    "\n",
    "t_stat, p_value = stats.ttest_ind(new, old)\n",
    "\n",
    "print(f\"T-statistic: {t_stat:.4f}\")\n",
    "print(f\"P-value: {p_value:.4f}\")\n",
    "\n",
    "alpha = 0.05 \n",
    "if p_value < alpha:\n",
    "    print(\"Reject the null hypothesis: There is a significant difference between the groups.\")\n",
    "else:\n",
    "    print(\"Fail to reject the null hypothesis: No significant difference found between the groups.\")"
   ]
  },
  {
   "cell_type": "code",
   "execution_count": 3,
   "id": "c3b80157",
   "metadata": {},
   "outputs": [
    {
     "name": "stdout",
     "output_type": "stream",
     "text": [
      "t-statistic: 2.5000\n",
      "p-value: 0.0197\n",
      "Reject the null hypothesis (H0): There is significant evidence that the population mean is different from 500 grams.\n"
     ]
    }
   ],
   "source": [
    "import scipy.stats as stats\n",
    "\n",
    "x_bar = 510   \n",
    "mu = 500      \n",
    "s = 20        \n",
    "n = 25       \n",
    "t_stat = (x_bar - mu) / (s / (n ** 0.5))\n",
    "\n",
    "p_value = 2 * (1 - stats.t.cdf(abs(t_stat), df=n-1))\n",
    "\n",
    "print(f\"t-statistic: {t_stat:.4f}\")\n",
    "print(f\"p-value: {p_value:.4f}\")\n",
    "\n",
    "alpha = 0.05\n",
    "if p_value < alpha:\n",
    "    print(\"Reject the null hypothesis (H0): There is significant evidence that the population mean is different from 500 grams.\")\n",
    "else:\n",
    "    print(\"Fail to reject the null hypothesis (H0): There is not enough evidence to conclude a difference in mean weight.\")\n"
   ]
  }
 ],
 "metadata": {
  "jupytext": {
   "cell_metadata_filter": "-all",
   "notebook_metadata_filter": "-all"
  },
  "kernelspec": {
   "display_name": "Python 3",
   "language": "python",
   "name": "python3"
  },
  "language_info": {
   "codemirror_mode": {
    "name": "ipython",
    "version": 3
   },
   "file_extension": ".py",
   "mimetype": "text/x-python",
   "name": "python",
   "nbconvert_exporter": "python",
   "pygments_lexer": "ipython3",
   "version": "3.13.1"
  }
 },
 "nbformat": 4,
 "nbformat_minor": 5
}
