{
 "cells": [
  {
   "cell_type": "markdown",
   "id": "c3c047fe-fc6e-4f72-9d41-000c242d2d6e",
   "metadata": {},
   "source": [
    "Analyzing Data with Python \n",
    "NUMPY\n",
    " \n"
   ]
  },
  {
   "cell_type": "markdown",
   "id": "29a1a96f",
   "metadata": {},
   "source": [
    "Q.1 Convert a 1D array to a 2D array with 2 rows "
   ]
  },
  {
   "cell_type": "code",
   "execution_count": 1,
   "id": "4db02026",
   "metadata": {},
   "outputs": [
    {
     "name": "stdout",
     "output_type": "stream",
     "text": [
      "[[1 2 3]\n",
      " [4 5 6]]\n"
     ]
    }
   ],
   "source": [
    "import numpy as np\n",
    "\n",
    "data = np.array([1,2,3,4,5,6])\n",
    "\n",
    "reshape_array = data.reshape(2,-1)\n",
    "\n",
    "print(reshape_array)\n"
   ]
  },
  {
   "cell_type": "markdown",
   "id": "e3f5bd8a",
   "metadata": {},
   "source": [
    "Q.2"
   ]
  },
  {
   "cell_type": "code",
   "execution_count": null,
   "id": "dcb717cb",
   "metadata": {},
   "outputs": [
    {
     "name": "stdout",
     "output_type": "stream",
     "text": [
      "[2 4]\n"
     ]
    }
   ],
   "source": [
    "a = np.array([1,2,3,2,3,4,3,4,5,6])\n",
    "b = np.array([7,2,10,2,7,4,9,4,9,8])\n",
    "\n",
    "common = np.intersect1d(a,b)\n",
    "\n",
    "print(common)"
   ]
  },
  {
   "cell_type": "markdown",
   "id": "111ff659",
   "metadata": {},
   "source": [
    "Q.3\n",
    "\n"
   ]
  },
  {
   "cell_type": "code",
   "execution_count": null,
   "id": "284efd0d",
   "metadata": {},
   "outputs": [
    {
     "name": "stdout",
     "output_type": "stream",
     "text": [
      "[ 6  9 10]\n"
     ]
    }
   ],
   "source": [
    "a = np.array([2, 6, 1, 9, 10, 3, 27])\n",
    "\n",
    "new_arr = a[(a>=5)&(a<=10)]\n",
    "\n",
    "print(new_arr)\n"
   ]
  },
  {
   "cell_type": "markdown",
   "id": "65f87d86",
   "metadata": {},
   "source": [
    "Q.4"
   ]
  },
  {
   "cell_type": "code",
   "execution_count": null,
   "id": "386c12e7",
   "metadata": {},
   "outputs": [
    {
     "name": "stdout",
     "output_type": "stream",
     "text": [
      "[ 0  1  2 ... 12 13 14]\n"
     ]
    }
   ],
   "source": [
    "a = np.array([0, 1, 2, 3, 4, 5, 6, 7, 8, 9, 10, 11, 12, 13, 14])\n",
    "\n",
    "np.set_printoptions(threshold=6)\n",
    "\n",
    "print(a)"
   ]
  },
  {
   "cell_type": "markdown",
   "id": "e1c29698",
   "metadata": {},
   "source": [
    "1. Compute the minimum, 25th percentile, median, 75th, and maximum of ser.\n",
    "\n"
   ]
  },
  {
   "cell_type": "code",
   "execution_count": null,
   "id": "00aad6a0",
   "metadata": {},
   "outputs": [
    {
     "name": "stdout",
     "output_type": "stream",
     "text": [
      "Minimum: 7\n",
      "25th Percentile: 12.25\n",
      "Median: 16.0\n",
      "75th Percentile: 21.0\n",
      "Maximum: 31\n"
     ]
    }
   ],
   "source": [
    "import numpy as np\n",
    "\n",
    "ser = np.array([12, 7, 22, 15, 9, 31, 18, 25, 13, 17])\n",
    "\n",
    "minimum =np.min(ser)\n",
    "percentile_25 = np.percentile(ser,25)\n",
    "median = np.median(ser)\n",
    "percentile_75 = np.percentile(ser,75)\n",
    "maximum = np.max(ser)\n",
    "\n",
    "# Print the results\n",
    "print(f\"Minimum: {minimum}\")\n",
    "print(f\"25th Percentile: {percentile_25}\")\n",
    "print(f\"Median: {median}\")\n",
    "print(f\"75th Percentile: {percentile_75}\")\n",
    "print(f\"Maximum: {maximum}\")\n"
   ]
  },
  {
   "cell_type": "markdown",
   "id": "f60aa993",
   "metadata": {},
   "source": [
    "2. Creating A Pandas Data Frame and Using Sample Data Sets\n"
   ]
  },
  {
   "cell_type": "code",
   "execution_count": 2,
   "id": "5a9d1922",
   "metadata": {},
   "outputs": [
    {
     "name": "stdout",
     "output_type": "stream",
     "text": [
      "    Name  Age         City\n",
      "0  soham   25  gandhinagar\n",
      "1    raj   30        mansa\n",
      "2    ved   35       rajkot\n",
      "3  krish   40      bharuch\n"
     ]
    }
   ],
   "source": [
    "import pandas as pd\n",
    "\n",
    "data = {\n",
    "    \"Name\": [\"soham\", \"raj\", \"ved\", \"krish\"],\n",
    "    \"Age\": [25, 30, 35, 40],\n",
    "    \"City\": [\"gandhinagar\", \"mansa\", \"rajkot\", \"bharuch\"]\n",
    "}\n",
    "\n",
    "df = pd.DataFrame(data)\n",
    "\n",
    "\n",
    "print(df)\n"
   ]
  },
  {
   "cell_type": "markdown",
   "id": "88ed5df9",
   "metadata": {},
   "source": [
    "3.Using NumPy, create a Pandas Data Frame with five rows and three columns."
   ]
  },
  {
   "cell_type": "code",
   "execution_count": 3,
   "id": "dfa7b31b",
   "metadata": {},
   "outputs": [
    {
     "name": "stdout",
     "output_type": "stream",
     "text": [
      "          A         B         C\n",
      "0  0.668499 -0.979527  1.071846\n",
      "1 -1.521101 -0.545291  0.219980\n",
      "2  0.352217 -1.080472 -1.361429\n",
      "3  0.322467  1.584726  2.051178\n",
      "4  0.546294  1.813314  0.264355\n"
     ]
    }
   ],
   "source": [
    "import pandas as pd\n",
    "import numpy as np\n",
    "\n",
    "df = pd.DataFrame(np.random.randn(5, 3), columns=[\"A\", \"B\", \"C\"])\n",
    "\n",
    "print(df)\n"
   ]
  },
  {
   "cell_type": "markdown",
   "id": "9afbae93",
   "metadata": {},
   "source": [
    "4.When you create a Pandas DataFrame from a NumPy array without specifying labels, Pandas assigns default integer-based labels for both rows and columns.\n",
    "\n",
    "Default Behavior:\n",
    "Rows (Index): Labeled with integers starting from 0 (e.g., 0, 1, 2, ...).\n",
    "Columns: Also labeled with integers starting from 0 (e.g., 0, 1, 2, ...)."
   ]
  },
  {
   "cell_type": "markdown",
   "id": "41f875b8",
   "metadata": {},
   "source": [
    "6.Write the code to show the number of rows and columns in data frame"
   ]
  },
  {
   "cell_type": "code",
   "execution_count": null,
   "id": "df49876d",
   "metadata": {},
   "outputs": [],
   "source": [
    "import pandas as pd\n",
    "\n",
    "df = pd.read_csv(\"file_name.csv\")\n",
    "\n",
    "rows, cols = df.shape\n",
    "\n",
    "print(f\"Number of Rows: {rows}\")\n",
    "print(f\"Number of Columns: {cols}\")\n"
   ]
  },
  {
   "cell_type": "markdown",
   "id": "25250e4c",
   "metadata": {},
   "source": [
    "7.How might you show the first few rows of data frame?"
   ]
  },
  {
   "cell_type": "code",
   "execution_count": null,
   "id": "2f281690",
   "metadata": {},
   "outputs": [],
   "source": [
    "import pandas as pd\n",
    "\n",
    "df = pd.read_csv(\"file_name.csv\")\n",
    "\n",
    "print(df.head())\n",
    "# we can customize them to multiple rows \n",
    "print(df.head(20))"
   ]
  },
  {
   "cell_type": "markdown",
   "id": "f17b236c",
   "metadata": {},
   "source": [
    "8. If you select a single column from the diamonds Data Frame, what will be the type of the\n",
    "return value?"
   ]
  },
  {
   "cell_type": "code",
   "execution_count": null,
   "id": "7cefbc0d",
   "metadata": {},
   "outputs": [],
   "source": [
    "import pandas as pd\n",
    "\n",
    "df = pd.read_csv(\"diamonds.csv\")  \n",
    "\n",
    "carat_series = df[\"carat\"]\n",
    "\n",
    "print(type(carat_series))  \n"
   ]
  },
  {
   "cell_type": "markdown",
   "id": "09dfb9cf",
   "metadata": {},
   "source": [
    "13.Key Features of TensorFlow --> \n",
    "Open-Source & Scalable – Free, supports small to large-scale ML models.\n",
    "Multi-Language Support – Works with Python, C++, JavaScript, Swift, Java, Go.\n",
    "GPU & TPU Acceleration – Fast training with hardware acceleration.\n",
    "High & Low-Level APIs – Keras (easy) & Low-level API (flexible).\n",
    "Automatic Differentiation – Computes gradients for optimization.\n",
    "TensorFlow Lite – Runs ML models on mobile & IoT devices.\n",
    "TensorFlow.js – ML models in the browser.\n",
    "TensorBoard – Interactive visualization of models & training.\n",
    "Distributed Training – Train on multiple GPUs & TPUs.\n",
    "Pre-trained Models – Use Inception, ResNet, BERT, YOLO, etc.\n",
    "Integration – Works with NumPy, Pandas, OpenCV, Scikit-learn.\n",
    "Deployment Ready – Supports Cloud, Mobile, Web, Embedded AI."
   ]
  },
  {
   "cell_type": "markdown",
   "id": "7c798f07",
   "metadata": {},
   "source": [
    "14.Limitations of TensorFlow--> \n",
    "Steep Learning Curve – Complex syntax, especially for beginners.\n",
    "Difficult Debugging – Hard to track errors in large models.\n",
    "Slow Compilation – Training can be slower compared to PyTorch in some cases.\n",
    "Memory Consumption – High RAM usage, especially for large models.\n",
    "Static Graph Execution – TensorFlow 1.x required defining the computation graph before execution (fixed in TF 2.x with eager execution).\n",
    "Limited Mobile Support – TensorFlow Lite lacks some advanced ML features.\n",
    "Less Flexibility – Compared to PyTorch, modifying models dynamically is harder.\n",
    "GPU Dependency – Requires NVIDIA CUDA for GPU acceleration, limiting AMD GPU support.\n",
    "Large File Size – Trained models can be heavy and require optimization.\n",
    "Inconsistent Documentation – Some features have outdated or insufficient documentation."
   ]
  },
  {
   "cell_type": "markdown",
   "id": "e99506da",
   "metadata": {},
   "source": [
    "15.\n",
    "Supervised Learning \n",
    "Definition:\n",
    "Supervised learning is a machine learning technique where a model is trained on labeled data (input-output pairs). The model learns the relationship between inputs (features) and outputs (labels) to make predictions on new data.\n",
    "\n",
    "Unsupervised Learning \n",
    "Definition:\n",
    "Unsupervised learning is a machine learning technique where a model learns patterns and structures from unlabeled data (data without predefined categories or labels)."
   ]
  }
 ],
 "metadata": {
  "kernelspec": {
   "display_name": "Python 3",
   "language": "python",
   "name": "python3"
  },
  "language_info": {
   "codemirror_mode": {
    "name": "ipython",
    "version": 3
   },
   "file_extension": ".py",
   "mimetype": "text/x-python",
   "name": "python",
   "nbconvert_exporter": "python",
   "pygments_lexer": "ipython3",
   "version": "3.13.1"
  }
 },
 "nbformat": 4,
 "nbformat_minor": 5
}
