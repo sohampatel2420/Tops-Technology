{
 "cells": [
  {
   "cell_type": "markdown",
   "id": "ddd066ee-b218-40ad-8945-6230858d2f26",
   "metadata": {},
   "source": [
    "1.Types of Applications: Applications can be categorized as web, mobile, desktop, enterprise, and embedded applications.bb"
   ]
  },
  {
   "cell_type": "markdown",
   "id": "97922ea7",
   "metadata": {},
   "source": [
    "2.What is Programming?: Programming is the process of writing, testing, and maintaining code to solve problems or perform tasks on a computer.\n"
   ]
  },
  {
   "cell_type": "markdown",
   "id": "bc50ab89",
   "metadata": {},
   "source": [
    "3.What is Python?: Python is a high-level, interpreted programming language known for its simplicity and versatility."
   ]
  },
  {
   "cell_type": "code",
   "execution_count": 2,
   "id": "42224ec6",
   "metadata": {},
   "outputs": [
    {
     "name": "stdout",
     "output_type": "stream",
     "text": [
      "Positive\n"
     ]
    }
   ],
   "source": [
    "# 4.Positive, Negative, or Zero Check:\n",
    "num = float(input(\"Enter a number: \"))\n",
    "if num > 0: print(\"Positive\")\n",
    "elif num < 0: print(\"Negative\")\n",
    "else: print(\"Zero\")"
   ]
  },
  {
   "cell_type": "code",
   "execution_count": 4,
   "id": "f08c13b6",
   "metadata": {},
   "outputs": [
    {
     "name": "stdout",
     "output_type": "stream",
     "text": [
      "Factorial: 120\n"
     ]
    }
   ],
   "source": [
    "# 5.Factorial Program:\n",
    "import math\n",
    "num = int(input(\"Enter a number: \"))\n",
    "print(\"Factorial:\", math.factorial(num))"
   ]
  },
  {
   "cell_type": "code",
   "execution_count": null,
   "id": "ac84044d",
   "metadata": {},
   "outputs": [],
   "source": [
    "# 6.Fibonacci Series:\n",
    "n = int(input(\"Enter range: \"))\n",
    "a, b = 0, 1\n",
    "for _ in range(n): print(a, end=\" \"); a, b = b, a + b"
   ]
  },
  {
   "cell_type": "markdown",
   "id": "1bec87d0",
   "metadata": {},
   "source": [
    "7.Memory Management in Python: Python manages memory using automatic garbage collection and dynamic memory allocation."
   ]
  },
  {
   "cell_type": "markdown",
   "id": "9424407e",
   "metadata": {},
   "source": [
    "8.Purpose of continue Statement: It skips the current iteration of a loop and proceeds to the next iteration."
   ]
  },
  {
   "cell_type": "code",
   "execution_count": 5,
   "id": "961b5200",
   "metadata": {},
   "outputs": [
    {
     "name": "stdout",
     "output_type": "stream",
     "text": [
      "10 5\n",
      "10 5\n"
     ]
    }
   ],
   "source": [
    "# 9.Swap Two Numbers:\n",
    "# With Temp Variable:\n",
    "a, b = 5, 10\n",
    "temp = a; a = b; b = temp\n",
    "print(a, b)\n",
    "# Without Temp Variable:\n",
    "a, b = 5, 10\n",
    "a, b = b, a\n",
    "print(a, b)"
   ]
  },
  {
   "cell_type": "code",
   "execution_count": 6,
   "id": "448e995e",
   "metadata": {},
   "outputs": [
    {
     "name": "stdout",
     "output_type": "stream",
     "text": [
      "Even\n"
     ]
    }
   ],
   "source": [
    "# 10.Even or Odd Check:\n",
    "num = int(input(\"Enter a number: \"))\n",
    "print(\"Even\" if num % 2 == 0 else \"Odd\")"
   ]
  },
  {
   "cell_type": "code",
   "execution_count": 8,
   "id": "9893ca62",
   "metadata": {},
   "outputs": [
    {
     "name": "stdout",
     "output_type": "stream",
     "text": [
      "Not a Vowel\n"
     ]
    }
   ],
   "source": [
    "# 11.Vowel Check:\n",
    "print(\"Vowel\" if input(\"Enter a letter: \").lower() in 'aeiou' else \"Not a Vowel\")"
   ]
  },
  {
   "cell_type": "code",
   "execution_count": 11,
   "id": "39678564",
   "metadata": {},
   "outputs": [
    {
     "name": "stdout",
     "output_type": "stream",
     "text": [
      "6\n"
     ]
    }
   ],
   "source": [
    "# 12.Sum of Three Integers:\n",
    "a, b, c = map(int, input(\"Enter three numbers: \").split())\n",
    "print(0 if a == b or b == c or a == c else a + b + c)\n"
   ]
  },
  {
   "cell_type": "code",
   "execution_count": 13,
   "id": "86fb6a1b",
   "metadata": {},
   "outputs": [
    {
     "name": "stdout",
     "output_type": "stream",
     "text": [
      "False\n"
     ]
    }
   ],
   "source": [
    "# 13.Equal or Sum/Difference is 5:\n",
    "a, b = map(int, input(\"Enter two numbers: \").split())\n",
    "print(a == b or abs(a - b) == 5 or a + b == 5)"
   ]
  },
  {
   "cell_type": "code",
   "execution_count": 15,
   "id": "954bf98c",
   "metadata": {},
   "outputs": [
    {
     "name": "stdout",
     "output_type": "stream",
     "text": [
      "21\n"
     ]
    }
   ],
   "source": [
    "# 14.Sum of First n Integers:\n",
    "n = int(input(\"Enter a positive integer: \"))\n",
    "print(n * (n + 1) // 2)"
   ]
  },
  {
   "cell_type": "code",
   "execution_count": 16,
   "id": "0a8c5e84",
   "metadata": {},
   "outputs": [
    {
     "name": "stdout",
     "output_type": "stream",
     "text": [
      "5\n"
     ]
    }
   ],
   "source": [
    "# 15.String Length:\n",
    "print(len(input(\"Enter a string: \")))\n"
   ]
  },
  {
   "cell_type": "code",
   "execution_count": 17,
   "id": "2c755f14",
   "metadata": {},
   "outputs": [
    {
     "name": "stdout",
     "output_type": "stream",
     "text": [
      "{'5': 1, '2': 1}\n"
     ]
    }
   ],
   "source": [
    "# 16.Character Frequency in String:\n",
    "from collections import Counter\n",
    "print(dict(Counter(input(\"Enter a string: \"))))"
   ]
  },
  {
   "cell_type": "markdown",
   "id": "1bcb8e8d",
   "metadata": {},
   "source": [
    "17.Negative Indexes: Negative indexes allow reverse traversal of sequences by counting from the end, with -1 referring to the last item."
   ]
  },
  {
   "cell_type": "code",
   "execution_count": 18,
   "id": "a16faab4",
   "metadata": {},
   "outputs": [
    {
     "name": "stdout",
     "output_type": "stream",
     "text": [
      "0\n"
     ]
    }
   ],
   "source": [
    "# 18.Count Substring Occurrences:\n",
    "print(input(\"Enter a string: \").count(input(\"Enter a substring: \")))"
   ]
  },
  {
   "cell_type": "code",
   "execution_count": 19,
   "id": "28db6951",
   "metadata": {},
   "outputs": [
    {
     "name": "stdout",
     "output_type": "stream",
     "text": [
      "{'dddsccsdccdcd': 1}\n"
     ]
    }
   ],
   "source": [
    "# 19.Count Word Occurrences:\n",
    "from collections import Counter\n",
    "sentence = input(\"Enter a sentence: \")\n",
    "print(dict(Counter(sentence.split())))\n"
   ]
  },
  {
   "cell_type": "code",
   "execution_count": 21,
   "id": "747d0140",
   "metadata": {},
   "outputs": [
    {
     "name": "stdout",
     "output_type": "stream",
     "text": [
      "paham  sotel\n"
     ]
    }
   ],
   "source": [
    "# 20.Swapping the First Two Characters of Two Given strings\n",
    "str1 = input(\"Enter the first string: \")\n",
    "str2 = input(\"Enter the second string: \")\n",
    "\n",
    "if len(str1) >= 2 and len(str2) >= 2:\n",
    "        new_str1 = str2[:2] + str1[2:]\n",
    "        new_str2 = str1[:2] + str2[2:]\n",
    "        result = new_str1 + ' ' + new_str2\n",
    "        print(result)\n",
    "else:\n",
    "    print(\"Both strings must have at least two characters.\")"
   ]
  },
  {
   "cell_type": "code",
   "execution_count": 23,
   "id": "c895e838",
   "metadata": {},
   "outputs": [
    {
     "name": "stdout",
     "output_type": "stream",
     "text": [
      "playin\n"
     ]
    }
   ],
   "source": [
    "# 21.Modify the String Based on Conditions:\n",
    "str = input(\"Enter a string: \")\n",
    "\n",
    "if len(str) >= 3:\n",
    "    if str.endswith('ing'):\n",
    "            print(str + 'ly')  \n",
    "    else:\n",
    "            print(str + 'in')  \n",
    "else:\n",
    "        print(str) "
   ]
  },
  {
   "cell_type": "code",
   "execution_count": 24,
   "id": "f9ba9b7f",
   "metadata": {},
   "outputs": [
    {
     "name": "stdout",
     "output_type": "stream",
     "text": [
      "Soham\n"
     ]
    }
   ],
   "source": [
    "# 22.\n",
    "str = input(\"Enter a string: \")\n",
    "\n",
    "if len(str) % 4 == 0:\n",
    "    print(str[::-1])\n",
    "else:\n",
    "    print(str)"
   ]
  },
  {
   "cell_type": "code",
   "execution_count": 25,
   "id": "3ec13510",
   "metadata": {},
   "outputs": [
    {
     "name": "stdout",
     "output_type": "stream",
     "text": [
      "soam\n"
     ]
    }
   ],
   "source": [
    "# 23.\n",
    "str = input(\"Enter a string: \")\n",
    "\n",
    "if len(str) >= 4:\n",
    "    result = str[:2] + str[-2:]\n",
    "    print(result)\n",
    "else:\n",
    "    print(\"The string should have at least 4 characters.\")\n"
   ]
  },
  {
   "cell_type": "code",
   "execution_count": null,
   "id": "13872ba8",
   "metadata": {},
   "outputs": [],
   "source": [
    "# 24.\n",
    "s1, s2 = input(\"Enter two strings: \").split()\n",
    "mid = len(s1) // 2\n",
    "print(s1[:mid] + s2 + s1[mid:])"
   ]
  },
  {
   "cell_type": "markdown",
   "id": "38bb1115",
   "metadata": {},
   "source": [
    "25.List and Reverse: A list is a collection of items; reverse it using list.reverse() or list[::-1]."
   ]
  },
  {
   "cell_type": "markdown",
   "id": "39431b5e",
   "metadata": {},
   "source": [
    "26.Remove Last Object from List: Use list.pop()."
   ]
  },
  {
   "cell_type": "markdown",
   "id": "dc7f4fdb",
   "metadata": {},
   "source": [
    "27.Accessing Last Element of List: list1[-1] is 25.\n"
   ]
  },
  {
   "cell_type": "markdown",
   "id": "48c20fe0",
   "metadata": {},
   "source": [
    "28.append() vs extend(): append() adds an element to the list, while extend() adds elements from another iterable.\n"
   ]
  },
  {
   "cell_type": "code",
   "execution_count": 26,
   "id": "db768dff",
   "metadata": {},
   "outputs": [
    {
     "name": "stdout",
     "output_type": "stream",
     "text": [
      "5 5 5\n"
     ]
    }
   ],
   "source": [
    "# 29.\n",
    "lst = list(map(int, input(\"Enter numbers: \").split()))\n",
    "print(max(lst), min(lst), sum(lst))\n"
   ]
  },
  {
   "cell_type": "markdown",
   "id": "e1432998",
   "metadata": {},
   "source": [
    "30.Compare Two Lists: Use list1 == list2 for equality comparison.\n"
   ]
  },
  {
   "cell_type": "code",
   "execution_count": 27,
   "id": "4ee4cc9e",
   "metadata": {},
   "outputs": [
    {
     "name": "stdout",
     "output_type": "stream",
     "text": [
      "Number of strings with the same first and last character: 0\n"
     ]
    }
   ],
   "source": [
    "# 31.\n",
    "n = int(input(\"Enter the number of strings: \"))\n",
    "\n",
    "count = 0\n",
    "\n",
    "for i in range(n):\n",
    "    str = input(f\"Enter string {i+1}: \")\n",
    "        \n",
    "    if len(str) > 0 and str[0] == str[-1]:\n",
    "        count += 1\n",
    "\n",
    "print(f\"Number of strings with the same first and last character: {count}\")\n"
   ]
  },
  {
   "cell_type": "code",
   "execution_count": 28,
   "id": "44404f6b",
   "metadata": {},
   "outputs": [
    {
     "name": "stdout",
     "output_type": "stream",
     "text": [
      "[1, 2, 3, 4]\n"
     ]
    }
   ],
   "source": [
    "# 32.\n",
    "lst = [1, 2, 2, 3, 4]\n",
    "print(list(set(lst)))"
   ]
  },
  {
   "cell_type": "code",
   "execution_count": 29,
   "id": "42a91cca",
   "metadata": {},
   "outputs": [
    {
     "name": "stdout",
     "output_type": "stream",
     "text": [
      "True\n"
     ]
    }
   ],
   "source": [
    "# 33.\n",
    "lst = []\n",
    "print(not lst)"
   ]
  },
  {
   "cell_type": "code",
   "execution_count": 30,
   "id": "3f86db8c",
   "metadata": {},
   "outputs": [
    {
     "name": "stdout",
     "output_type": "stream",
     "text": [
      "True\n",
      "False\n"
     ]
    }
   ],
   "source": [
    "# 34.\n",
    "def have_common_member(list1, list2):\n",
    "    return any(item in list2 for item in list1)\n",
    "list1 = [1, 2, 3, 4]\n",
    "list2 = [3, 5, 6]\n",
    "\n",
    "print(have_common_member(list1, list2))\n",
    "\n",
    "list3 = [7, 8, 9]\n",
    "print(have_common_member(list1, list3))\n"
   ]
  },
  {
   "cell_type": "code",
   "execution_count": 31,
   "id": "f8fc2819",
   "metadata": {},
   "outputs": [
    {
     "name": "stdout",
     "output_type": "stream",
     "text": [
      "First 5 elements: [1, 4, 9, 16, 25]\n",
      "Last 5 elements: [676, 729, 784, 841, 900]\n",
      "Combined List: [1, 4, 9, 16, 25, 676, 729, 784, 841, 900]\n"
     ]
    }
   ],
   "source": [
    "# 35.\n",
    "\n",
    "squares = [x**2 for x in range(1, 31)]\n",
    "first_5 = squares[:5]\n",
    "last_5 = squares[-5:]\n",
    "result = first_5 + last_5\n",
    "print(\"First 5 elements:\", first_5)\n",
    "print(\"Last 5 elements:\", last_5)\n",
    "print(\"Combined List:\", result)"
   ]
  },
  {
   "cell_type": "code",
   "execution_count": 32,
   "id": "fa6bacbb",
   "metadata": {},
   "outputs": [
    {
     "name": "stdout",
     "output_type": "stream",
     "text": [
      "[1, 2, 3, 4, 5]\n"
     ]
    }
   ],
   "source": [
    "# 36.\n",
    "def get_unique_elements(input_list):\n",
    "    return list(set(input_list))\n",
    "\n",
    "\n",
    "my_list = [1, 2, 2, 3, 4, 4, 5]\n",
    "unique_list = get_unique_elements(my_list)\n",
    "print(unique_list) \n"
   ]
  },
  {
   "cell_type": "code",
   "execution_count": 33,
   "id": "316a626b",
   "metadata": {},
   "outputs": [
    {
     "name": "stdout",
     "output_type": "stream",
     "text": [
      "Hello\n"
     ]
    }
   ],
   "source": [
    "# 37.\n",
    "\n",
    "chars = ['H', 'e', 'l', 'l', 'o']\n",
    "result = ''.join(chars)\n",
    "print(result)\n"
   ]
  },
  {
   "cell_type": "code",
   "execution_count": 34,
   "id": "ae1e9df5",
   "metadata": {},
   "outputs": [
    {
     "name": "stdout",
     "output_type": "stream",
     "text": [
      "2\n"
     ]
    }
   ],
   "source": [
    "# 38.\n",
    "import random\n",
    "items = [1, 2, 3, 4, 5]\n",
    "result = random.choice(items)\n",
    "print(result)\n"
   ]
  },
  {
   "cell_type": "code",
   "execution_count": 35,
   "id": "8899014a",
   "metadata": {},
   "outputs": [
    {
     "name": "stdout",
     "output_type": "stream",
     "text": [
      "2\n"
     ]
    }
   ],
   "source": [
    "# 39.\n",
    "numbers = [5, 2, 9, 1, 5, 6]\n",
    "unique_numbers = sorted(set(numbers))\n",
    "second_smallest = unique_numbers[1]\n",
    "print(second_smallest)\n"
   ]
  },
  {
   "cell_type": "code",
   "execution_count": 37,
   "id": "affecf7b",
   "metadata": {},
   "outputs": [
    {
     "name": "stdout",
     "output_type": "stream",
     "text": [
      "[1, 2, 3, 4, 5]\n"
     ]
    }
   ],
   "source": [
    "# 40.\n",
    "numbers = [1, 2, 2, 3, 4, 4, 5]\n",
    "unique_values = list(set(numbers))\n",
    "print(unique_values)\n"
   ]
  },
  {
   "cell_type": "code",
   "execution_count": 38,
   "id": "2115c756",
   "metadata": {},
   "outputs": [
    {
     "name": "stdout",
     "output_type": "stream",
     "text": [
      "True\n"
     ]
    }
   ],
   "source": [
    "# 41.\n",
    "main_list = [1, 2, 3, 4, 5]\n",
    "sub_list = [2, 3]\n",
    "result = all(item in main_list for item in sub_list)\n",
    "print(result)\n"
   ]
  },
  {
   "cell_type": "code",
   "execution_count": 40,
   "id": "ef21ceb8",
   "metadata": {},
   "outputs": [
    {
     "name": "stdout",
     "output_type": "stream",
     "text": [
      "1 2 3\n"
     ]
    }
   ],
   "source": [
    "# 42.\n",
    "my_list = [1, 2, 3]\n",
    "a, b, c = my_list\n",
    "print(a, b, c)\n"
   ]
  },
  {
   "cell_type": "markdown",
   "id": "fbf2cd3b",
   "metadata": {},
   "source": [
    "43) What is a tuple? Difference between list and tuple:\n",
    "Tuple: A tuple is an immutable sequence of items in Python. It is defined using parentheses ().\n",
    "\n",
    "Differences:\n",
    "\n",
    "Mutability: Lists are mutable (can be changed), while tuples are immutable (cannot be changed).\n",
    "Syntax: Lists use square brackets [], tuples use parentheses ().\n",
    "Performance: Tuples are faster than lists because of their immutability.\n",
    "Usage: Tuples are often used when data should not be modified."
   ]
  },
  {
   "cell_type": "code",
   "execution_count": 41,
   "id": "99195868",
   "metadata": {},
   "outputs": [
    {
     "name": "stdout",
     "output_type": "stream",
     "text": [
      "(1, 'Hello', 3.14, True)\n"
     ]
    }
   ],
   "source": [
    "# 44.\n",
    "my_tuple = (1, \"Hello\", 3.14, True)\n",
    "print(my_tuple)\n"
   ]
  },
  {
   "cell_type": "code",
   "execution_count": 42,
   "id": "cb7810fd",
   "metadata": {},
   "outputs": [
    {
     "name": "stdout",
     "output_type": "stream",
     "text": [
      "[1, 2, 3]\n",
      "['a', 'b', 'c']\n"
     ]
    }
   ],
   "source": [
    "# 45.\n",
    "list_of_tuples = [(1, 'a'), (2, 'b'), (3, 'c')]\n",
    "numbers, letters = zip(*list_of_tuples)\n",
    "print(list(numbers))\n",
    "print(list(letters))\n"
   ]
  },
  {
   "cell_type": "code",
   "execution_count": 43,
   "id": "e408fa71",
   "metadata": {},
   "outputs": [
    {
     "name": "stdout",
     "output_type": "stream",
     "text": [
      "{1: 'a', 2: 'b', 3: 'c'}\n"
     ]
    }
   ],
   "source": [
    "# 46.\n",
    "list_of_tuples = [(1, 'a'), (2, 'b'), (3, 'c')]\n",
    "dictionary = dict(list_of_tuples)\n",
    "print(dictionary)\n"
   ]
  },
  {
   "cell_type": "code",
   "execution_count": 44,
   "id": "d0f65e0a",
   "metadata": {},
   "outputs": [
    {
     "name": "stdout",
     "output_type": "stream",
     "text": [
      "{1: 'apple', 2: 'banana', 3: 'cherry'}\n"
     ]
    }
   ],
   "source": [
    "# 47.\n",
    "tuple_of_pairs = ((1, 'apple'), (2, 'banana'), (3, 'cherry'))\n",
    "dictionary = dict(tuple_of_pairs)\n",
    "print(dictionary)\n"
   ]
  },
  {
   "cell_type": "code",
   "execution_count": 45,
   "id": "0bf13977",
   "metadata": {},
   "outputs": [
    {
     "name": "stdout",
     "output_type": "stream",
     "text": [
      "Ascending: {'b': 1, 'c': 2, 'a': 3}\n",
      "Descending: {'a': 3, 'c': 2, 'b': 1}\n"
     ]
    }
   ],
   "source": [
    "# 48.\n",
    "my_dict = {'a': 3, 'b': 1, 'c': 2}\n",
    "\n",
    "sorted_asc = dict(sorted(my_dict.items(), key=lambda item: item[1]))\n",
    "print(\"Ascending:\", sorted_asc)\n",
    "\n",
    "sorted_desc = dict(sorted(my_dict.items(), key=lambda item: item[1], reverse=True))\n",
    "print(\"Descending:\", sorted_desc)\n"
   ]
  },
  {
   "cell_type": "code",
   "execution_count": 46,
   "id": "a238ab38",
   "metadata": {},
   "outputs": [
    {
     "name": "stdout",
     "output_type": "stream",
     "text": [
      "{'a': 1, 'b': 2, 'c': 3, 'd': 4, 'e': 5, 'f': 6}\n"
     ]
    }
   ],
   "source": [
    "# 49.\n",
    "dict1 = {'a': 1, 'b': 2}\n",
    "dict2 = {'c': 3, 'd': 4}\n",
    "dict3 = {'e': 5, 'f': 6}\n",
    "result = {**dict1, **dict2, **dict3}\n",
    "print(result)\n"
   ]
  },
  {
   "cell_type": "code",
   "execution_count": 47,
   "id": "c399c742",
   "metadata": {},
   "outputs": [
    {
     "name": "stdout",
     "output_type": "stream",
     "text": [
      "True\n"
     ]
    }
   ],
   "source": [
    "# 50.\n",
    "my_dict = {'a': 1, 'b': 2, 'c': 3}\n",
    "key_to_check = 'b'\n",
    "print(key_to_check in my_dict)\n"
   ]
  },
  {
   "cell_type": "code",
   "execution_count": 49,
   "id": "4e069994",
   "metadata": {},
   "outputs": [
    {
     "name": "stdout",
     "output_type": "stream",
     "text": [
      "Key: a, Value: 1\n",
      "Key: b, Value: 2\n",
      "Key: c, Value: 3\n"
     ]
    }
   ],
   "source": [
    "# 51.\n",
    "my_dict = {'a': 1, 'b': 2, 'c': 3}\n",
    "for key, value in my_dict.items():\n",
    "    print(f\"Key: {key}, Value: {value}\")\n"
   ]
  },
  {
   "cell_type": "code",
   "execution_count": 50,
   "id": "2fe3491e",
   "metadata": {},
   "outputs": [
    {
     "name": "stdout",
     "output_type": "stream",
     "text": [
      "Key 'a' is present.\n"
     ]
    }
   ],
   "source": [
    "# 52.\n",
    "my_dict = {'a': 1, 'b': 2, 'c': 3}\n",
    "key_to_check = 'a'\n",
    "if key_to_check in my_dict:\n",
    "    print(f\"Key '{key_to_check}' is present.\")\n",
    "else:\n",
    "    print(f\"Key '{key_to_check}' is not present.\")\n"
   ]
  },
  {
   "cell_type": "code",
   "execution_count": 51,
   "id": "25e98ca5",
   "metadata": {},
   "outputs": [
    {
     "name": "stdout",
     "output_type": "stream",
     "text": [
      "{1: 1, 2: 4, 3: 9, 4: 16, 5: 25, 6: 36, 7: 49, 8: 64, 9: 81, 10: 100, 11: 121, 12: 144, 13: 169, 14: 196, 15: 225}\n"
     ]
    }
   ],
   "source": [
    "# 53.\n",
    "result = {i: i**2 for i in range(1, 16)}\n",
    "print(result)\n"
   ]
  },
  {
   "cell_type": "code",
   "execution_count": 53,
   "id": "82729851",
   "metadata": {},
   "outputs": [
    {
     "name": "stdout",
     "output_type": "stream",
     "text": [
      "True\n"
     ]
    }
   ],
   "source": [
    "# 54.\n",
    "my_dict = {'a': 1, 'b': 2, 'c': 3}\n",
    "keys_to_check = {'a', 'c'}\n",
    "result = keys_to_check.issubset(my_dict.keys())\n",
    "print(result)\n"
   ]
  },
  {
   "cell_type": "code",
   "execution_count": 54,
   "id": "efbbd128",
   "metadata": {},
   "outputs": [
    {
     "name": "stdout",
     "output_type": "stream",
     "text": [
      "{'a': 1, 'b': 2, 'c': 3, 'd': 4}\n"
     ]
    }
   ],
   "source": [
    "# 55.\n",
    "dict1 = {'a': 1, 'b': 2}\n",
    "dict2 = {'c': 3, 'd': 4}\n",
    "merged_dict = {**dict1, **dict2}\n",
    "print(merged_dict)\n"
   ]
  },
  {
   "cell_type": "code",
   "execution_count": 55,
   "id": "e8482686",
   "metadata": {},
   "outputs": [
    {
     "name": "stdout",
     "output_type": "stream",
     "text": [
      "{'a': 400, 'b': 400, 'c': 300, 'd': 400}\n"
     ]
    }
   ],
   "source": [
    "# 56.\n",
    "keys = ['a', 'b', 'c', 'd']\n",
    "values = [400, 400, 300, 400]\n",
    "mapped_dict = dict(zip(keys, values))\n",
    "print(mapped_dict)\n"
   ]
  },
  {
   "cell_type": "code",
   "execution_count": 56,
   "id": "763d1603",
   "metadata": {},
   "outputs": [
    {
     "name": "stdout",
     "output_type": "stream",
     "text": [
      "[60, 50, 40]\n"
     ]
    }
   ],
   "source": [
    "# 57.\n",
    "my_dict = {'a': 50, 'b': 20, 'c': 30, 'd': 60, 'e': 40}\n",
    "highest_3 = sorted(my_dict.values(), reverse=True)[:3]\n",
    "print(highest_3)\n"
   ]
  },
  {
   "cell_type": "code",
   "execution_count": 63,
   "id": "989d2955",
   "metadata": {},
   "outputs": [
    {
     "name": "stdout",
     "output_type": "stream",
     "text": [
      "Counter({'item1': 1150, 'item2': 300})\n"
     ]
    }
   ],
   "source": [
    "# 58.\n",
    "from collections import Counter\n",
    "\n",
    "data = [{'item': 'item1', 'amount': 400}, {'item': 'item2', 'amount': 300}, {'item': 'item1', 'amount': 750}]\n",
    "result = Counter()\n",
    "for entry in data:\n",
    "    result[entry['item']] += entry['amount']\n",
    "print(result)\n"
   ]
  },
  {
   "cell_type": "code",
   "execution_count": 67,
   "id": "1d12dd8b",
   "metadata": {},
   "outputs": [
    {
     "name": "stdout",
     "output_type": "stream",
     "text": [
      "Counter({'a': 2, 'S': 1, 'o': 1, 'h': 1, 'm': 1, ' ': 1, 'p': 1, 't': 1, 'e': 1, 'l': 1})\n"
     ]
    }
   ],
   "source": [
    "# 59.\n",
    "from collections import Counter\n",
    "\n",
    "string = 'Soham patel'\n",
    "result = Counter(string)\n",
    "print(result)\n"
   ]
  },
  {
   "cell_type": "code",
   "execution_count": 66,
   "id": "d48109ea",
   "metadata": {},
   "outputs": [
    {
     "name": "stdout",
     "output_type": "stream",
     "text": [
      "{'s': 1, 'o': 1, 'h': 1, 'a': 2, 'm': 1, ' ': 1, 'p': 1, 't': 1, 'e': 1, 'l': 1}\n"
     ]
    }
   ],
   "source": [
    "# 60.\n",
    "from collections import Counter\n",
    "\n",
    "string = 'soham patel'\n",
    "result = dict(Counter(string))\n",
    "print(result)\n"
   ]
  },
  {
   "cell_type": "code",
   "execution_count": 68,
   "id": "51a95a64",
   "metadata": {},
   "outputs": [
    {
     "name": "stdout",
     "output_type": "stream",
     "text": [
      "120\n"
     ]
    }
   ],
   "source": [
    "# 61.\n",
    "def factorial(n):\n",
    "    if n == 0:\n",
    "        return 1\n",
    "    return n * factorial(n - 1)\n",
    "\n",
    "print(factorial(5))  \n"
   ]
  },
  {
   "cell_type": "code",
   "execution_count": 69,
   "id": "80191ece",
   "metadata": {},
   "outputs": [
    {
     "name": "stdout",
     "output_type": "stream",
     "text": [
      "True\n"
     ]
    }
   ],
   "source": [
    "# 62.\n",
    "def is_in_range(num, start, end):\n",
    "    return start <= num <= end\n",
    "\n",
    "print(is_in_range(5, 1, 10))  \n"
   ]
  },
  {
   "cell_type": "code",
   "execution_count": 70,
   "id": "479db1bd",
   "metadata": {},
   "outputs": [
    {
     "name": "stdout",
     "output_type": "stream",
     "text": [
      "True\n"
     ]
    }
   ],
   "source": [
    "# 63.\n",
    "def is_perfect_number(n):\n",
    "    divisors = [i for i in range(1, n) if n % i == 0]\n",
    "    return sum(divisors) == n\n",
    "\n",
    "print(is_perfect_number(28)) \n"
   ]
  },
  {
   "cell_type": "code",
   "execution_count": 73,
   "id": "014e27a3",
   "metadata": {},
   "outputs": [
    {
     "name": "stdout",
     "output_type": "stream",
     "text": [
      "True\n"
     ]
    }
   ],
   "source": [
    "# 64.\n",
    "def is_palindrome(s):\n",
    "    return s == s[::-1]\n",
    "\n",
    "print(is_palindrome(\"radar\")) \n"
   ]
  },
  {
   "cell_type": "markdown",
   "id": "387313f9",
   "metadata": {},
   "source": [
    "65) Basic types of functions in Python:\n",
    "There are two basic types of functions in Python:\n",
    "\n",
    "Built-in functions: Predefined in Python, e.g., len(), print().\n",
    "User-defined functions: Functions created by the user using def."
   ]
  },
  {
   "cell_type": "code",
   "execution_count": 74,
   "id": "949b3601",
   "metadata": {},
   "outputs": [
    {
     "name": "stdout",
     "output_type": "stream",
     "text": [
      "5\n"
     ]
    }
   ],
   "source": [
    "# 66.\n",
    "import random\n",
    "\n",
    "my_list = [1, 2, 3, 4, 5]\n",
    "print(random.choice(my_list))  "
   ]
  },
  {
   "cell_type": "code",
   "execution_count": 75,
   "id": "b18843b3",
   "metadata": {},
   "outputs": [
    {
     "name": "stdout",
     "output_type": "stream",
     "text": [
      "98\n"
     ]
    }
   ],
   "source": [
    "# 67.\n",
    "import random\n",
    "\n",
    "print(random.choice(range(1, 101)))  "
   ]
  },
  {
   "cell_type": "code",
   "execution_count": 76,
   "id": "5071ae24",
   "metadata": {},
   "outputs": [
    {
     "name": "stdout",
     "output_type": "stream",
     "text": [
      "0.3510492206708308\n"
     ]
    }
   ],
   "source": [
    "# 68.\n",
    "import random\n",
    "\n",
    "print(random.random()) "
   ]
  },
  {
   "cell_type": "code",
   "execution_count": 77,
   "id": "34767790",
   "metadata": {},
   "outputs": [
    {
     "name": "stdout",
     "output_type": "stream",
     "text": [
      "0.5714025946899135\n"
     ]
    }
   ],
   "source": [
    "# 69.\n",
    "import random\n",
    "\n",
    "random.seed(10)  \n",
    "print(random.random()) "
   ]
  },
  {
   "cell_type": "code",
   "execution_count": 78,
   "id": "4b23f315",
   "metadata": {},
   "outputs": [
    {
     "name": "stdout",
     "output_type": "stream",
     "text": [
      "[2, 1, 3, 5, 4]\n"
     ]
    }
   ],
   "source": [
    "# 70.\n",
    "import random\n",
    "\n",
    "my_list = [1, 2, 3, 4, 5]\n",
    "random.shuffle(my_list)\n",
    "print(my_list)\n"
   ]
  },
  {
   "cell_type": "markdown",
   "id": "35086e87",
   "metadata": {},
   "source": [
    "71) File function in Python and keywords to create/write a file:\n",
    "The file function refers to operations like reading, writing, or manipulating files in Python. Common keywords:\n",
    "\n",
    "open(): Open a file.\n",
    "Modes:\n",
    "'w': Write mode (creates a new file or overwrites an existing file).\n",
    "'a': Append mode (adds to an existing file).\n",
    "'x': Create mode (creates a new file; fails if it exists).\n",
    "'r': Read mode (default)."
   ]
  },
  {
   "cell_type": "code",
   "execution_count": 2,
   "id": "471243a6",
   "metadata": {},
   "outputs": [
    {
     "name": "stdout",
     "output_type": "stream",
     "text": [
      "Hello.\n"
     ]
    }
   ],
   "source": [
    "# 72.\n",
    "with open(\"file.txt\", \"r\") as file:\n",
    "    content = file.read()\n",
    "print(content)\n"
   ]
  },
  {
   "cell_type": "code",
   "execution_count": 3,
   "id": "829e02a2",
   "metadata": {},
   "outputs": [
    {
     "name": "stdout",
     "output_type": "stream",
     "text": [
      "Hello.Appended text.\n",
      "\n"
     ]
    }
   ],
   "source": [
    "# 73.\n",
    "with open(\"file.txt\", \"a\") as file:\n",
    "    file.write(\"Appended text.\\n\")\n",
    "\n",
    "with open(\"file.txt\", \"r\") as file:\n",
    "    print(file.read())\n"
   ]
  },
  {
   "cell_type": "code",
   "execution_count": 4,
   "id": "3b936954",
   "metadata": {},
   "outputs": [
    {
     "name": "stdout",
     "output_type": "stream",
     "text": [
      "Hello.Appended text.\n"
     ]
    }
   ],
   "source": [
    "# 74.\n",
    "n = 3\n",
    "with open(\"file.txt\", \"r\") as file:\n",
    "    for _ in range(n):\n",
    "        print(file.readline(), end=\"\")\n"
   ]
  },
  {
   "cell_type": "code",
   "execution_count": 5,
   "id": "1b4444ad",
   "metadata": {},
   "outputs": [
    {
     "name": "stdout",
     "output_type": "stream",
     "text": [
      "Hello.Appended text.\n",
      "\n"
     ]
    }
   ],
   "source": [
    "# 75.\n",
    "from collections import deque\n",
    "\n",
    "n = 3\n",
    "with open(\"file.txt\", \"r\") as file:\n",
    "    lines = deque(file, n)\n",
    "print(\"\".join(lines))\n"
   ]
  },
  {
   "cell_type": "code",
   "execution_count": 6,
   "id": "6fea6664",
   "metadata": {},
   "outputs": [
    {
     "name": "stdout",
     "output_type": "stream",
     "text": [
      "['Hello.Appended text.\\n']\n"
     ]
    }
   ],
   "source": [
    "# 76.\n",
    "with open(\"file.txt\", \"r\") as file:\n",
    "    lines = file.readlines()\n",
    "print(lines)\n"
   ]
  },
  {
   "cell_type": "code",
   "execution_count": 7,
   "id": "da7bd0ce",
   "metadata": {},
   "outputs": [
    {
     "name": "stdout",
     "output_type": "stream",
     "text": [
      "Hello.Appended text.\n",
      "\n"
     ]
    }
   ],
   "source": [
    "# 77.\n",
    "with open(\"file.txt\", \"r\") as file:\n",
    "    content = file.read()\n",
    "print(content)\n"
   ]
  },
  {
   "cell_type": "code",
   "execution_count": 8,
   "id": "c719bd56",
   "metadata": {},
   "outputs": [
    {
     "name": "stdout",
     "output_type": "stream",
     "text": [
      "Hello.Appended\n"
     ]
    }
   ],
   "source": [
    "# 78.\n",
    "with open(\"file.txt\", \"r\") as file:\n",
    "    words = file.read().split()\n",
    "longest_word = max(words, key=len)\n",
    "print(longest_word)\n"
   ]
  },
  {
   "cell_type": "code",
   "execution_count": 9,
   "id": "ae8550a4",
   "metadata": {},
   "outputs": [
    {
     "name": "stdout",
     "output_type": "stream",
     "text": [
      "1\n"
     ]
    }
   ],
   "source": [
    "# 79.\n",
    "with open(\"file.txt\", \"r\") as file:\n",
    "    line_count = sum(1 for line in file)\n",
    "print(line_count)\n"
   ]
  },
  {
   "cell_type": "code",
   "execution_count": 10,
   "id": "21f75420",
   "metadata": {},
   "outputs": [
    {
     "name": "stdout",
     "output_type": "stream",
     "text": [
      "Counter({'Hello.Appended': 1, 'text.': 1})\n"
     ]
    }
   ],
   "source": [
    "# 80.\n",
    "from collections import Counter\n",
    "\n",
    "with open(\"file.txt\", \"r\") as file:\n",
    "    words = file.read().split()\n",
    "word_count = Counter(words)\n",
    "print(word_count)\n"
   ]
  },
  {
   "cell_type": "code",
   "execution_count": 11,
   "id": "df5e06aa",
   "metadata": {},
   "outputs": [],
   "source": [
    "# 81.\n",
    "my_list = [\"Line 1\", \"Line 2\", \"Line 3\"]\n",
    "with open(\"file.txt\", \"w\") as file:\n",
    "    for item in my_list:\n",
    "        file.write(item + \"\\n\")\n"
   ]
  },
  {
   "cell_type": "code",
   "execution_count": 13,
   "id": "0e7d90e3",
   "metadata": {},
   "outputs": [],
   "source": [
    "# 82.\n",
    "with open(\"source.txt\", \"r\") as src, open(\"destination.txt\", \"w\") as dest:\n",
    "    dest.write(src.read())\n"
   ]
  },
  {
   "cell_type": "markdown",
   "id": "59769488",
   "metadata": {},
   "source": [
    "83) Exception handling and errors in Python:\n",
    "Exception Handling: Mechanism to handle runtime errors using try, except, else, and finally.\n",
    "Error: An issue in the program's syntax or logic causing it to fail. Examples include ZeroDivisionError, FileNotFoundError."
   ]
  },
  {
   "cell_type": "markdown",
   "id": "3817a91c",
   "metadata": {},
   "source": [
    "84) How many except statements can a try-except block have? Built-in exception classes:\n",
    "There can be multiple except statements for different exceptions. Examples of built-in exceptions:\n",
    "\n",
    "ValueError\n",
    "KeyError\n",
    "IndexError\n",
    "TypeError"
   ]
  },
  {
   "cell_type": "markdown",
   "id": "d1bb65d7",
   "metadata": {},
   "source": [
    "85) When is the else part of try-except-else executed?\n",
    "The else block executes only if the try block does not raise an exception."
   ]
  },
  {
   "cell_type": "code",
   "execution_count": 15,
   "id": "28e481d1",
   "metadata": {},
   "outputs": [
    {
     "name": "stdout",
     "output_type": "stream",
     "text": [
      "Handled ValueError or TypeError\n"
     ]
    }
   ],
   "source": [
    "# 86.\n",
    "try:\n",
    "    x = int(\"abc\")\n",
    "except (ValueError, TypeError):\n",
    "    print(\"Handled ValueError or TypeError\")\n"
   ]
  },
  {
   "cell_type": "markdown",
   "id": "5b7078af",
   "metadata": {},
   "source": [
    "87) When is the finally block executed?\n",
    "The finally block always executes, regardless of whether an exception was raised or not."
   ]
  },
  {
   "cell_type": "markdown",
   "id": "bdcba320",
   "metadata": {},
   "source": [
    "88) What happens when '1' == 1 is executed?\n",
    "The comparison returns False because '1' (string) and 1 (integer) are of different types."
   ]
  },
  {
   "cell_type": "code",
   "execution_count": 16,
   "id": "d3fab7f6",
   "metadata": {},
   "outputs": [
    {
     "name": "stdout",
     "output_type": "stream",
     "text": [
      "Cannot divide by zero\n",
      "Execution complete\n"
     ]
    }
   ],
   "source": [
    "# 89.\n",
    "try:\n",
    "    x = 10 / 0\n",
    "except ZeroDivisionError:\n",
    "    print(\"Cannot divide by zero\")\n",
    "finally:\n",
    "    print(\"Execution complete\")\n"
   ]
  },
  {
   "cell_type": "code",
   "execution_count": 17,
   "id": "4a5f6709",
   "metadata": {},
   "outputs": [
    {
     "name": "stdout",
     "output_type": "stream",
     "text": [
      "Thank you!\n"
     ]
    }
   ],
   "source": [
    "# 90.\n",
    "class NotOddNumberError(Exception):\n",
    "    pass\n",
    "\n",
    "try:\n",
    "    num = int(input(\"Enter an odd number: \"))\n",
    "    if num % 2 == 0:\n",
    "        raise NotOddNumberError(\"The number is not odd.\")\n",
    "    print(\"Thank you!\")\n",
    "except NotOddNumberError as e:\n",
    "    print(e)\n"
   ]
  }
 ],
 "metadata": {
  "kernelspec": {
   "display_name": "Python 3",
   "language": "python",
   "name": "python3"
  },
  "language_info": {
   "codemirror_mode": {
    "name": "ipython",
    "version": 3
   },
   "file_extension": ".py",
   "mimetype": "text/x-python",
   "name": "python",
   "nbconvert_exporter": "python",
   "pygments_lexer": "ipython3",
   "version": "3.11.3"
  }
 },
 "nbformat": 4,
 "nbformat_minor": 5
}
